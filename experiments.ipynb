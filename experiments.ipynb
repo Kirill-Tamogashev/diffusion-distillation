{
 "cells": [
  {
   "cell_type": "code",
   "execution_count": 16,
   "id": "2fea9ae5-037b-4d0a-be55-b3d97f2989fd",
   "metadata": {},
   "outputs": [
    {
     "name": "stdout",
     "output_type": "stream",
     "text": [
      "The autoreload extension is already loaded. To reload it, use:\n",
      "  %reload_ext autoreload\n"
     ]
    }
   ],
   "source": [
    "%load_ext autoreload"
   ]
  },
  {
   "cell_type": "code",
   "execution_count": 329,
   "id": "917d49d3-eca4-43c0-a6e2-edf0e38d7b5a",
   "metadata": {},
   "outputs": [],
   "source": [
    "from argparse import ArgumentParser\n",
    "from pathlib import Path\n",
    "import typing as tp\n",
    "\n",
    "import torch\n",
    "\n",
    "import numpy as np\n",
    "import matplotlib.pyplot as plt\n",
    "from PIL import Image\n",
    "from ml_collections import ConfigDict\n",
    "\n",
    "%autoreload 2\n",
    "from train_with_stylegan.trainer import DIffGANTrainer\n",
    "from train_with_stylegan.utils import configure_unet_model_from_pretrained\n",
    "from train_with_stylegan.train import load_params, configure_checkpoint_path"
   ]
  },
  {
   "cell_type": "code",
   "execution_count": 254,
   "id": "d7da6ca5-893e-4628-855c-4867b59cabff",
   "metadata": {},
   "outputs": [],
   "source": [
    "device = torch.device(f\"{args.device}\") if torch.cuda.is_available else torch.device(\"cpu\")\n",
    "teacher = configure_unet_model_from_pretrained(args.teacher)\n",
    "student = configure_unet_model_from_pretrained(args.teacher)\n",
    "\n",
    "teacher.to(device)\n",
    "student.to(device)\n",
    "\n",
    "teacher.eval()\n",
    "student.train()\n",
    "\n",
    "log_dir, last_ckpt = configure_checkpoint_path(args)"
   ]
  },
  {
   "cell_type": "markdown",
   "id": "f7329d5d-55ff-4602-b70e-b496dfb5a07b",
   "metadata": {},
   "source": [
    "### Config from diffusers"
   ]
  },
  {
   "cell_type": "code",
   "execution_count": 116,
   "id": "cc4cf889-6d0a-4226-82da-e3466b44f745",
   "metadata": {},
   "outputs": [],
   "source": [
    "from diffusers import DDPMPipeline"
   ]
  },
  {
   "cell_type": "code",
   "execution_count": 117,
   "id": "a1422e09-ce54-436d-860c-f1835a3df41f",
   "metadata": {},
   "outputs": [],
   "source": [
    "ddpm_pipeline = DDPMPipeline.from_pretrained(\"google/ddpm-cifar10-32\")"
   ]
  },
  {
   "cell_type": "code",
   "execution_count": 118,
   "id": "ef265962-fc60-4336-b8cf-1f65264d30e0",
   "metadata": {},
   "outputs": [
    {
     "data": {
      "text/plain": [
       "DDPMScheduler {\n",
       "  \"_class_name\": \"DDPMScheduler\",\n",
       "  \"_diffusers_version\": \"0.18.2\",\n",
       "  \"beta_end\": 0.02,\n",
       "  \"beta_schedule\": \"linear\",\n",
       "  \"beta_start\": 0.0001,\n",
       "  \"clip_sample\": true,\n",
       "  \"clip_sample_range\": 1.0,\n",
       "  \"dynamic_thresholding_ratio\": 0.995,\n",
       "  \"num_train_timesteps\": 1000,\n",
       "  \"prediction_type\": \"epsilon\",\n",
       "  \"sample_max_value\": 1.0,\n",
       "  \"steps_offset\": 0,\n",
       "  \"thresholding\": false,\n",
       "  \"timestep_spacing\": \"leading\",\n",
       "  \"trained_betas\": null,\n",
       "  \"variance_type\": \"fixed_large\"\n",
       "}"
      ]
     },
     "execution_count": 118,
     "metadata": {},
     "output_type": "execute_result"
    }
   ],
   "source": [
    "ddpm_pipeline.scheduler"
   ]
  },
  {
   "cell_type": "markdown",
   "id": "ec7640cf-cc26-4d7a-b825-02bfa0c55361",
   "metadata": {},
   "source": [
    "### Sample Images"
   ]
  },
  {
   "cell_type": "code",
   "execution_count": 301,
   "id": "2cd93e4f-d61d-4543-bbd7-83dccf436178",
   "metadata": {},
   "outputs": [],
   "source": [
    "args = dict(\n",
    "    name=\"student\",\n",
    "    teacher=\"google/ddpm-cifar10-32\",\n",
    "    params=Path(\"./train_with_stylegan/params/boot.yaml\"),\n",
    "    device=\"cpu\",\n",
    "    project=\"boot\",\n",
    "    dir=Path(\"boot-ckpt\")\n",
    ")\n",
    "args = ConfigDict(args)\n",
    "params = load_params(args)"
   ]
  },
  {
   "cell_type": "code",
   "execution_count": 336,
   "id": "35d915ba-7802-46fc-85ff-cf24990b21c2",
   "metadata": {},
   "outputs": [],
   "source": [
    "# Run if you want discrete sampler\n",
    "params.training.continuous = False\n",
    "params.training.beta_min = 0.0001\n",
    "params.training.beta_max = 0.02"
   ]
  },
  {
   "cell_type": "code",
   "execution_count": 337,
   "id": "427dab8c-b056-4743-9e00-c462ed53df39",
   "metadata": {},
   "outputs": [
    {
     "name": "stdout",
     "output_type": "stream",
     "text": [
      "False\n",
      "0.02\n",
      "0.0001\n"
     ]
    }
   ],
   "source": [
    "trainer = DIffGANTrainer(\n",
    "    teacher=teacher,\n",
    "    student=student,\n",
    "    params=params,\n",
    "    device=device,\n",
    "    log_dir=log_dir,\n",
    ")\n",
    "\n",
    "print(params.training.continuous)\n",
    "print(params.training.beta_max)\n",
    "print(params.training.beta_min)"
   ]
  },
  {
   "cell_type": "code",
   "execution_count": 331,
   "id": "2b65c6ab-8fad-4ace-9e9c-85b0ed1b902b",
   "metadata": {},
   "outputs": [
    {
     "name": "stderr",
     "output_type": "stream",
     "text": [
      "Sampling images with teacher...:  10%|██▋                        | 100/1000 [00:32<04:47,  3.13it/s]"
     ]
    },
    {
     "name": "stdout",
     "output_type": "stream",
     "text": [
      "tensor([[[0.0003]]]) tensor([[[0.9955]]]) tensor([[[0.0178]]])\n"
     ]
    },
    {
     "name": "stderr",
     "output_type": "stream",
     "text": [
      "Sampling images with teacher...:  20%|█████▍                     | 200/1000 [01:05<04:19,  3.08it/s]"
     ]
    },
    {
     "name": "stdout",
     "output_type": "stream",
     "text": [
      "tensor([[[0.0006]]]) tensor([[[0.9960]]]) tensor([[[0.0159]]])\n"
     ]
    },
    {
     "name": "stderr",
     "output_type": "stream",
     "text": [
      "Sampling images with teacher...:  30%|████████                   | 300/1000 [01:37<03:41,  3.16it/s]"
     ]
    },
    {
     "name": "stdout",
     "output_type": "stream",
     "text": [
      "tensor([[[0.0012]]]) tensor([[[0.9964]]]) tensor([[[0.0139]]])\n"
     ]
    },
    {
     "name": "stderr",
     "output_type": "stream",
     "text": [
      "Sampling images with teacher...:  40%|██████████▊                | 400/1000 [02:15<05:38,  1.77it/s]"
     ]
    },
    {
     "name": "stdout",
     "output_type": "stream",
     "text": [
      "tensor([[[0.0020]]]) tensor([[[0.9967]]]) tensor([[[0.0120]]])\n"
     ]
    },
    {
     "name": "stderr",
     "output_type": "stream",
     "text": [
      "Sampling images with teacher...:  50%|█████████████▌             | 500/1000 [02:55<03:26,  2.42it/s]"
     ]
    },
    {
     "name": "stdout",
     "output_type": "stream",
     "text": [
      "tensor([[[0.0031]]]) tensor([[[0.9966]]]) tensor([[[0.0100]]])\n"
     ]
    },
    {
     "name": "stderr",
     "output_type": "stream",
     "text": [
      "Sampling images with teacher...:  60%|████████████████▏          | 600/1000 [03:34<02:27,  2.71it/s]"
     ]
    },
    {
     "name": "stdout",
     "output_type": "stream",
     "text": [
      "tensor([[[0.0044]]]) tensor([[[0.9960]]]) tensor([[[0.0080]]])\n"
     ]
    },
    {
     "name": "stderr",
     "output_type": "stream",
     "text": [
      "Sampling images with teacher...:  70%|██████████████████▉        | 700/1000 [04:12<02:16,  2.20it/s]"
     ]
    },
    {
     "name": "stdout",
     "output_type": "stream",
     "text": [
      "tensor([[[0.0063]]]) tensor([[[0.9945]]]) tensor([[[0.0060]]])\n"
     ]
    },
    {
     "name": "stderr",
     "output_type": "stream",
     "text": [
      "Sampling images with teacher...:  80%|█████████████████████▌     | 800/1000 [04:54<01:20,  2.49it/s]"
     ]
    },
    {
     "name": "stdout",
     "output_type": "stream",
     "text": [
      "tensor([[[0.0097]]]) tensor([[[0.9911]]]) tensor([[[0.0041]]])\n"
     ]
    },
    {
     "name": "stderr",
     "output_type": "stream",
     "text": [
      "Sampling images with teacher...:  90%|████████████████████████▎  | 900/1000 [05:35<00:43,  2.29it/s]"
     ]
    },
    {
     "name": "stdout",
     "output_type": "stream",
     "text": [
      "tensor([[[0.0190]]]) tensor([[[0.9815]]]) tensor([[[0.0021]]])\n"
     ]
    },
    {
     "name": "stderr",
     "output_type": "stream",
     "text": [
      "                                                                                                    "
     ]
    },
    {
     "name": "stdout",
     "output_type": "stream",
     "text": [
      "tensor([[[1.0588]]]) tensor([[[0.]]]) tensor([[[1.0729e-06]]])\n"
     ]
    },
    {
     "name": "stderr",
     "output_type": "stream",
     "text": [
      "\r"
     ]
    }
   ],
   "source": [
    "images = trainer.sample_with_teacher(2)"
   ]
  },
  {
   "cell_type": "code",
   "execution_count": null,
   "id": "59e91239-c939-4202-af54-bff1b20a3cfe",
   "metadata": {},
   "outputs": [
    {
     "name": "stderr",
     "output_type": "stream",
     "text": [
      "Sampling images with teacher...:  10%|██▋                        | 100/1000 [00:41<05:24,  2.77it/s]"
     ]
    },
    {
     "name": "stdout",
     "output_type": "stream",
     "text": [
      "tensor([[[0.0003]]]) tensor([[[0.9909]]]) tensor([[[0.0180]]])\n"
     ]
    },
    {
     "name": "stderr",
     "output_type": "stream",
     "text": [
      "Sampling images with teacher...:  20%|█████▍                     | 200/1000 [01:19<04:56,  2.70it/s]"
     ]
    },
    {
     "name": "stdout",
     "output_type": "stream",
     "text": [
      "tensor([[[0.0006]]]) tensor([[[0.9919]]]) tensor([[[0.0160]]])\n"
     ]
    },
    {
     "name": "stderr",
     "output_type": "stream",
     "text": [
      "Sampling images with teacher...:  30%|████████                   | 300/1000 [02:01<04:17,  2.72it/s]"
     ]
    },
    {
     "name": "stdout",
     "output_type": "stream",
     "text": [
      "tensor([[[0.0012]]]) tensor([[[0.9929]]]) tensor([[[0.0140]]])\n"
     ]
    },
    {
     "name": "stderr",
     "output_type": "stream",
     "text": [
      "Sampling images with teacher...:  40%|██████████▊                | 400/1000 [02:40<03:33,  2.81it/s]"
     ]
    },
    {
     "name": "stdout",
     "output_type": "stream",
     "text": [
      "tensor([[[0.0020]]]) tensor([[[0.9936]]]) tensor([[[0.0121]]])\n"
     ]
    },
    {
     "name": "stderr",
     "output_type": "stream",
     "text": [
      "Sampling images with teacher...:  40%|██████████▊                | 402/1000 [02:41<03:30,  2.84it/s]"
     ]
    }
   ],
   "source": [
    "discrete_images = trainer.sample_with_teacher(2)"
   ]
  },
  {
   "cell_type": "code",
   "execution_count": 332,
   "id": "5b01bb96-b60e-4f99-addf-57137459f014",
   "metadata": {},
   "outputs": [
    {
     "data": {
      "image/jpeg": "[encoded data removed]",
      "image/png": "[encoded data removed]",
      "text/plain": [
       "<PIL.Image.Image image mode=RGB size=128x128>"
      ]
     },
     "execution_count": 332,
     "metadata": {},
     "output_type": "execute_result"
    }
   ],
   "source": [
    "# images = trainer.sample_with_teacher(2)\n",
    "np_images = images.permute(0, 2, 3, 1).numpy()\n",
    "Image.fromarray(np.uint8(np_images[1] * 255)).resize((128,128), Image.BICUBIC)"
   ]
  },
  {
   "cell_type": "code",
   "execution_count": 335,
   "id": "0f84641c-5119-406f-84ff-6a7056df3429",
   "metadata": {},
   "outputs": [
    {
     "data": {
      "image/jpeg": "[encoded data removed]",
      "image/png": "[encoded data removed]",
      "text/plain": [
       "<PIL.Image.Image image mode=RGB size=128x128>"
      ]
     },
     "execution_count": 335,
     "metadata": {},
     "output_type": "execute_result"
    }
   ],
   "source": [
    "idx = 1\n",
    "Image.fromarray(np.uint8(images.permute(0, 2, 3, 1).numpy()[idx] * 255)).resize((128,128), Image.BICUBIC)"
   ]
  },
  {
   "cell_type": "code",
   "execution_count": 328,
   "id": "130fab08-19b3-4250-9e89-2950dea56d1a",
   "metadata": {},
   "outputs": [
    {
     "data": {
      "text/plain": [
       "array([1.00000000e-05, 1.01099099e-03, 2.01198198e-03, 3.01297297e-03,\n",
       "       4.01396396e-03, 5.01495495e-03, 6.01594595e-03, 7.01693694e-03,\n",
       "       8.01792793e-03, 9.01891892e-03, 1.00199099e-02, 1.10209009e-02,\n",
       "       1.20218919e-02, 1.30228829e-02, 1.40238739e-02, 1.50248649e-02,\n",
       "       1.60258559e-02, 1.70268468e-02, 1.80278378e-02, 1.90288288e-02,\n",
       "       2.00298198e-02, 2.10308108e-02, 2.20318018e-02, 2.30327928e-02,\n",
       "       2.40337838e-02, 2.50347748e-02, 2.60357658e-02, 2.70367568e-02,\n",
       "       2.80377477e-02, 2.90387387e-02, 3.00397297e-02, 3.10407207e-02,\n",
       "       3.20417117e-02, 3.30427027e-02, 3.40436937e-02, 3.50446847e-02,\n",
       "       3.60456757e-02, 3.70466667e-02, 3.80476577e-02, 3.90486486e-02,\n",
       "       4.00496396e-02, 4.10506306e-02, 4.20516216e-02, 4.30526126e-02,\n",
       "       4.40536036e-02, 4.50545946e-02, 4.60555856e-02, 4.70565766e-02,\n",
       "       4.80575676e-02, 4.90585586e-02, 5.00595495e-02, 5.10605405e-02,\n",
       "       5.20615315e-02, 5.30625225e-02, 5.40635135e-02, 5.50645045e-02,\n",
       "       5.60654955e-02, 5.70664865e-02, 5.80674775e-02, 5.90684685e-02,\n",
       "       6.00694595e-02, 6.10704505e-02, 6.20714414e-02, 6.30724324e-02,\n",
       "       6.40734234e-02, 6.50744144e-02, 6.60754054e-02, 6.70763964e-02,\n",
       "       6.80773874e-02, 6.90783784e-02, 7.00793694e-02, 7.10803604e-02,\n",
       "       7.20813514e-02, 7.30823423e-02, 7.40833333e-02, 7.50843243e-02,\n",
       "       7.60853153e-02, 7.70863063e-02, 7.80872973e-02, 7.90882883e-02,\n",
       "       8.00892793e-02, 8.10902703e-02, 8.20912613e-02, 8.30922523e-02,\n",
       "       8.40932432e-02, 8.50942342e-02, 8.60952252e-02, 8.70962162e-02,\n",
       "       8.80972072e-02, 8.90981982e-02, 9.00991892e-02, 9.11001802e-02,\n",
       "       9.21011712e-02, 9.31021622e-02, 9.41031532e-02, 9.51041441e-02,\n",
       "       9.61051351e-02, 9.71061261e-02, 9.81071171e-02, 9.91081081e-02,\n",
       "       1.00109099e-01, 1.01110090e-01, 1.02111081e-01, 1.03112072e-01,\n",
       "       1.04113063e-01, 1.05114054e-01, 1.06115045e-01, 1.07116036e-01,\n",
       "       1.08117027e-01, 1.09118018e-01, 1.10119009e-01, 1.11120000e-01,\n",
       "       1.12120991e-01, 1.13121982e-01, 1.14122973e-01, 1.15123964e-01,\n",
       "       1.16124955e-01, 1.17125946e-01, 1.18126937e-01, 1.19127928e-01,\n",
       "       1.20128919e-01, 1.21129910e-01, 1.22130901e-01, 1.23131892e-01,\n",
       "       1.24132883e-01, 1.25133874e-01, 1.26134865e-01, 1.27135856e-01,\n",
       "       1.28136847e-01, 1.29137838e-01, 1.30138829e-01, 1.31139820e-01,\n",
       "       1.32140811e-01, 1.33141802e-01, 1.34142793e-01, 1.35143784e-01,\n",
       "       1.36144775e-01, 1.37145766e-01, 1.38146757e-01, 1.39147748e-01,\n",
       "       1.40148739e-01, 1.41149730e-01, 1.42150721e-01, 1.43151712e-01,\n",
       "       1.44152703e-01, 1.45153694e-01, 1.46154685e-01, 1.47155676e-01,\n",
       "       1.48156667e-01, 1.49157658e-01, 1.50158649e-01, 1.51159640e-01,\n",
       "       1.52160631e-01, 1.53161622e-01, 1.54162613e-01, 1.55163604e-01,\n",
       "       1.56164595e-01, 1.57165586e-01, 1.58166577e-01, 1.59167568e-01,\n",
       "       1.60168559e-01, 1.61169550e-01, 1.62170541e-01, 1.63171532e-01,\n",
       "       1.64172523e-01, 1.65173514e-01, 1.66174505e-01, 1.67175495e-01,\n",
       "       1.68176486e-01, 1.69177477e-01, 1.70178468e-01, 1.71179459e-01,\n",
       "       1.72180450e-01, 1.73181441e-01, 1.74182432e-01, 1.75183423e-01,\n",
       "       1.76184414e-01, 1.77185405e-01, 1.78186396e-01, 1.79187387e-01,\n",
       "       1.80188378e-01, 1.81189369e-01, 1.82190360e-01, 1.83191351e-01,\n",
       "       1.84192342e-01, 1.85193333e-01, 1.86194324e-01, 1.87195315e-01,\n",
       "       1.88196306e-01, 1.89197297e-01, 1.90198288e-01, 1.91199279e-01,\n",
       "       1.92200270e-01, 1.93201261e-01, 1.94202252e-01, 1.95203243e-01,\n",
       "       1.96204234e-01, 1.97205225e-01, 1.98206216e-01, 1.99207207e-01,\n",
       "       2.00208198e-01, 2.01209189e-01, 2.02210180e-01, 2.03211171e-01,\n",
       "       2.04212162e-01, 2.05213153e-01, 2.06214144e-01, 2.07215135e-01,\n",
       "       2.08216126e-01, 2.09217117e-01, 2.10218108e-01, 2.11219099e-01,\n",
       "       2.12220090e-01, 2.13221081e-01, 2.14222072e-01, 2.15223063e-01,\n",
       "       2.16224054e-01, 2.17225045e-01, 2.18226036e-01, 2.19227027e-01,\n",
       "       2.20228018e-01, 2.21229009e-01, 2.22230000e-01, 2.23230991e-01,\n",
       "       2.24231982e-01, 2.25232973e-01, 2.26233964e-01, 2.27234955e-01,\n",
       "       2.28235946e-01, 2.29236937e-01, 2.30237928e-01, 2.31238919e-01,\n",
       "       2.32239910e-01, 2.33240901e-01, 2.34241892e-01, 2.35242883e-01,\n",
       "       2.36243874e-01, 2.37244865e-01, 2.38245856e-01, 2.39246847e-01,\n",
       "       2.40247838e-01, 2.41248829e-01, 2.42249820e-01, 2.43250811e-01,\n",
       "       2.44251802e-01, 2.45252793e-01, 2.46253784e-01, 2.47254775e-01,\n",
       "       2.48255766e-01, 2.49256757e-01, 2.50257748e-01, 2.51258739e-01,\n",
       "       2.52259730e-01, 2.53260721e-01, 2.54261712e-01, 2.55262703e-01,\n",
       "       2.56263694e-01, 2.57264685e-01, 2.58265676e-01, 2.59266667e-01,\n",
       "       2.60267658e-01, 2.61268649e-01, 2.62269640e-01, 2.63270631e-01,\n",
       "       2.64271622e-01, 2.65272613e-01, 2.66273604e-01, 2.67274595e-01,\n",
       "       2.68275586e-01, 2.69276577e-01, 2.70277568e-01, 2.71278559e-01,\n",
       "       2.72279550e-01, 2.73280541e-01, 2.74281532e-01, 2.75282523e-01,\n",
       "       2.76283514e-01, 2.77284505e-01, 2.78285495e-01, 2.79286486e-01,\n",
       "       2.80287477e-01, 2.81288468e-01, 2.82289459e-01, 2.83290450e-01,\n",
       "       2.84291441e-01, 2.85292432e-01, 2.86293423e-01, 2.87294414e-01,\n",
       "       2.88295405e-01, 2.89296396e-01, 2.90297387e-01, 2.91298378e-01,\n",
       "       2.92299369e-01, 2.93300360e-01, 2.94301351e-01, 2.95302342e-01,\n",
       "       2.96303333e-01, 2.97304324e-01, 2.98305315e-01, 2.99306306e-01,\n",
       "       3.00307297e-01, 3.01308288e-01, 3.02309279e-01, 3.03310270e-01,\n",
       "       3.04311261e-01, 3.05312252e-01, 3.06313243e-01, 3.07314234e-01,\n",
       "       3.08315225e-01, 3.09316216e-01, 3.10317207e-01, 3.11318198e-01,\n",
       "       3.12319189e-01, 3.13320180e-01, 3.14321171e-01, 3.15322162e-01,\n",
       "       3.16323153e-01, 3.17324144e-01, 3.18325135e-01, 3.19326126e-01,\n",
       "       3.20327117e-01, 3.21328108e-01, 3.22329099e-01, 3.23330090e-01,\n",
       "       3.24331081e-01, 3.25332072e-01, 3.26333063e-01, 3.27334054e-01,\n",
       "       3.28335045e-01, 3.29336036e-01, 3.30337027e-01, 3.31338018e-01,\n",
       "       3.32339009e-01, 3.33340000e-01, 3.34340991e-01, 3.35341982e-01,\n",
       "       3.36342973e-01, 3.37343964e-01, 3.38344955e-01, 3.39345946e-01,\n",
       "       3.40346937e-01, 3.41347928e-01, 3.42348919e-01, 3.43349910e-01,\n",
       "       3.44350901e-01, 3.45351892e-01, 3.46352883e-01, 3.47353874e-01,\n",
       "       3.48354865e-01, 3.49355856e-01, 3.50356847e-01, 3.51357838e-01,\n",
       "       3.52358829e-01, 3.53359820e-01, 3.54360811e-01, 3.55361802e-01,\n",
       "       3.56362793e-01, 3.57363784e-01, 3.58364775e-01, 3.59365766e-01,\n",
       "       3.60366757e-01, 3.61367748e-01, 3.62368739e-01, 3.63369730e-01,\n",
       "       3.64370721e-01, 3.65371712e-01, 3.66372703e-01, 3.67373694e-01,\n",
       "       3.68374685e-01, 3.69375676e-01, 3.70376667e-01, 3.71377658e-01,\n",
       "       3.72378649e-01, 3.73379640e-01, 3.74380631e-01, 3.75381622e-01,\n",
       "       3.76382613e-01, 3.77383604e-01, 3.78384595e-01, 3.79385586e-01,\n",
       "       3.80386577e-01, 3.81387568e-01, 3.82388559e-01, 3.83389550e-01,\n",
       "       3.84390541e-01, 3.85391532e-01, 3.86392523e-01, 3.87393514e-01,\n",
       "       3.88394505e-01, 3.89395495e-01, 3.90396486e-01, 3.91397477e-01,\n",
       "       3.92398468e-01, 3.93399459e-01, 3.94400450e-01, 3.95401441e-01,\n",
       "       3.96402432e-01, 3.97403423e-01, 3.98404414e-01, 3.99405405e-01,\n",
       "       4.00406396e-01, 4.01407387e-01, 4.02408378e-01, 4.03409369e-01,\n",
       "       4.04410360e-01, 4.05411351e-01, 4.06412342e-01, 4.07413333e-01,\n",
       "       4.08414324e-01, 4.09415315e-01, 4.10416306e-01, 4.11417297e-01,\n",
       "       4.12418288e-01, 4.13419279e-01, 4.14420270e-01, 4.15421261e-01,\n",
       "       4.16422252e-01, 4.17423243e-01, 4.18424234e-01, 4.19425225e-01,\n",
       "       4.20426216e-01, 4.21427207e-01, 4.22428198e-01, 4.23429189e-01,\n",
       "       4.24430180e-01, 4.25431171e-01, 4.26432162e-01, 4.27433153e-01,\n",
       "       4.28434144e-01, 4.29435135e-01, 4.30436126e-01, 4.31437117e-01,\n",
       "       4.32438108e-01, 4.33439099e-01, 4.34440090e-01, 4.35441081e-01,\n",
       "       4.36442072e-01, 4.37443063e-01, 4.38444054e-01, 4.39445045e-01,\n",
       "       4.40446036e-01, 4.41447027e-01, 4.42448018e-01, 4.43449009e-01,\n",
       "       4.44450000e-01, 4.45450991e-01, 4.46451982e-01, 4.47452973e-01,\n",
       "       4.48453964e-01, 4.49454955e-01, 4.50455946e-01, 4.51456937e-01,\n",
       "       4.52457928e-01, 4.53458919e-01, 4.54459910e-01, 4.55460901e-01,\n",
       "       4.56461892e-01, 4.57462883e-01, 4.58463874e-01, 4.59464865e-01,\n",
       "       4.60465856e-01, 4.61466847e-01, 4.62467838e-01, 4.63468829e-01,\n",
       "       4.64469820e-01, 4.65470811e-01, 4.66471802e-01, 4.67472793e-01,\n",
       "       4.68473784e-01, 4.69474775e-01, 4.70475766e-01, 4.71476757e-01,\n",
       "       4.72477748e-01, 4.73478739e-01, 4.74479730e-01, 4.75480721e-01,\n",
       "       4.76481712e-01, 4.77482703e-01, 4.78483694e-01, 4.79484685e-01,\n",
       "       4.80485676e-01, 4.81486667e-01, 4.82487658e-01, 4.83488649e-01,\n",
       "       4.84489640e-01, 4.85490631e-01, 4.86491622e-01, 4.87492613e-01,\n",
       "       4.88493604e-01, 4.89494595e-01, 4.90495586e-01, 4.91496577e-01,\n",
       "       4.92497568e-01, 4.93498559e-01, 4.94499550e-01, 4.95500541e-01,\n",
       "       4.96501532e-01, 4.97502523e-01, 4.98503514e-01, 4.99504505e-01,\n",
       "       5.00505495e-01, 5.01506486e-01, 5.02507477e-01, 5.03508468e-01,\n",
       "       5.04509459e-01, 5.05510450e-01, 5.06511441e-01, 5.07512432e-01,\n",
       "       5.08513423e-01, 5.09514414e-01, 5.10515405e-01, 5.11516396e-01,\n",
       "       5.12517387e-01, 5.13518378e-01, 5.14519369e-01, 5.15520360e-01,\n",
       "       5.16521351e-01, 5.17522342e-01, 5.18523333e-01, 5.19524324e-01,\n",
       "       5.20525315e-01, 5.21526306e-01, 5.22527297e-01, 5.23528288e-01,\n",
       "       5.24529279e-01, 5.25530270e-01, 5.26531261e-01, 5.27532252e-01,\n",
       "       5.28533243e-01, 5.29534234e-01, 5.30535225e-01, 5.31536216e-01,\n",
       "       5.32537207e-01, 5.33538198e-01, 5.34539189e-01, 5.35540180e-01,\n",
       "       5.36541171e-01, 5.37542162e-01, 5.38543153e-01, 5.39544144e-01,\n",
       "       5.40545135e-01, 5.41546126e-01, 5.42547117e-01, 5.43548108e-01,\n",
       "       5.44549099e-01, 5.45550090e-01, 5.46551081e-01, 5.47552072e-01,\n",
       "       5.48553063e-01, 5.49554054e-01, 5.50555045e-01, 5.51556036e-01,\n",
       "       5.52557027e-01, 5.53558018e-01, 5.54559009e-01, 5.55560000e-01,\n",
       "       5.56560991e-01, 5.57561982e-01, 5.58562973e-01, 5.59563964e-01,\n",
       "       5.60564955e-01, 5.61565946e-01, 5.62566937e-01, 5.63567928e-01,\n",
       "       5.64568919e-01, 5.65569910e-01, 5.66570901e-01, 5.67571892e-01,\n",
       "       5.68572883e-01, 5.69573874e-01, 5.70574865e-01, 5.71575856e-01,\n",
       "       5.72576847e-01, 5.73577838e-01, 5.74578829e-01, 5.75579820e-01,\n",
       "       5.76580811e-01, 5.77581802e-01, 5.78582793e-01, 5.79583784e-01,\n",
       "       5.80584775e-01, 5.81585766e-01, 5.82586757e-01, 5.83587748e-01,\n",
       "       5.84588739e-01, 5.85589730e-01, 5.86590721e-01, 5.87591712e-01,\n",
       "       5.88592703e-01, 5.89593694e-01, 5.90594685e-01, 5.91595676e-01,\n",
       "       5.92596667e-01, 5.93597658e-01, 5.94598649e-01, 5.95599640e-01,\n",
       "       5.96600631e-01, 5.97601622e-01, 5.98602613e-01, 5.99603604e-01,\n",
       "       6.00604595e-01, 6.01605586e-01, 6.02606577e-01, 6.03607568e-01,\n",
       "       6.04608559e-01, 6.05609550e-01, 6.06610541e-01, 6.07611532e-01,\n",
       "       6.08612523e-01, 6.09613514e-01, 6.10614505e-01, 6.11615495e-01,\n",
       "       6.12616486e-01, 6.13617477e-01, 6.14618468e-01, 6.15619459e-01,\n",
       "       6.16620450e-01, 6.17621441e-01, 6.18622432e-01, 6.19623423e-01,\n",
       "       6.20624414e-01, 6.21625405e-01, 6.22626396e-01, 6.23627387e-01,\n",
       "       6.24628378e-01, 6.25629369e-01, 6.26630360e-01, 6.27631351e-01,\n",
       "       6.28632342e-01, 6.29633333e-01, 6.30634324e-01, 6.31635315e-01,\n",
       "       6.32636306e-01, 6.33637297e-01, 6.34638288e-01, 6.35639279e-01,\n",
       "       6.36640270e-01, 6.37641261e-01, 6.38642252e-01, 6.39643243e-01,\n",
       "       6.40644234e-01, 6.41645225e-01, 6.42646216e-01, 6.43647207e-01,\n",
       "       6.44648198e-01, 6.45649189e-01, 6.46650180e-01, 6.47651171e-01,\n",
       "       6.48652162e-01, 6.49653153e-01, 6.50654144e-01, 6.51655135e-01,\n",
       "       6.52656126e-01, 6.53657117e-01, 6.54658108e-01, 6.55659099e-01,\n",
       "       6.56660090e-01, 6.57661081e-01, 6.58662072e-01, 6.59663063e-01,\n",
       "       6.60664054e-01, 6.61665045e-01, 6.62666036e-01, 6.63667027e-01,\n",
       "       6.64668018e-01, 6.65669009e-01, 6.66670000e-01, 6.67670991e-01,\n",
       "       6.68671982e-01, 6.69672973e-01, 6.70673964e-01, 6.71674955e-01,\n",
       "       6.72675946e-01, 6.73676937e-01, 6.74677928e-01, 6.75678919e-01,\n",
       "       6.76679910e-01, 6.77680901e-01, 6.78681892e-01, 6.79682883e-01,\n",
       "       6.80683874e-01, 6.81684865e-01, 6.82685856e-01, 6.83686847e-01,\n",
       "       6.84687838e-01, 6.85688829e-01, 6.86689820e-01, 6.87690811e-01,\n",
       "       6.88691802e-01, 6.89692793e-01, 6.90693784e-01, 6.91694775e-01,\n",
       "       6.92695766e-01, 6.93696757e-01, 6.94697748e-01, 6.95698739e-01,\n",
       "       6.96699730e-01, 6.97700721e-01, 6.98701712e-01, 6.99702703e-01,\n",
       "       7.00703694e-01, 7.01704685e-01, 7.02705676e-01, 7.03706667e-01,\n",
       "       7.04707658e-01, 7.05708649e-01, 7.06709640e-01, 7.07710631e-01,\n",
       "       7.08711622e-01, 7.09712613e-01, 7.10713604e-01, 7.11714595e-01,\n",
       "       7.12715586e-01, 7.13716577e-01, 7.14717568e-01, 7.15718559e-01,\n",
       "       7.16719550e-01, 7.17720541e-01, 7.18721532e-01, 7.19722523e-01,\n",
       "       7.20723514e-01, 7.21724505e-01, 7.22725495e-01, 7.23726486e-01,\n",
       "       7.24727477e-01, 7.25728468e-01, 7.26729459e-01, 7.27730450e-01,\n",
       "       7.28731441e-01, 7.29732432e-01, 7.30733423e-01, 7.31734414e-01,\n",
       "       7.32735405e-01, 7.33736396e-01, 7.34737387e-01, 7.35738378e-01,\n",
       "       7.36739369e-01, 7.37740360e-01, 7.38741351e-01, 7.39742342e-01,\n",
       "       7.40743333e-01, 7.41744324e-01, 7.42745315e-01, 7.43746306e-01,\n",
       "       7.44747297e-01, 7.45748288e-01, 7.46749279e-01, 7.47750270e-01,\n",
       "       7.48751261e-01, 7.49752252e-01, 7.50753243e-01, 7.51754234e-01,\n",
       "       7.52755225e-01, 7.53756216e-01, 7.54757207e-01, 7.55758198e-01,\n",
       "       7.56759189e-01, 7.57760180e-01, 7.58761171e-01, 7.59762162e-01,\n",
       "       7.60763153e-01, 7.61764144e-01, 7.62765135e-01, 7.63766126e-01,\n",
       "       7.64767117e-01, 7.65768108e-01, 7.66769099e-01, 7.67770090e-01,\n",
       "       7.68771081e-01, 7.69772072e-01, 7.70773063e-01, 7.71774054e-01,\n",
       "       7.72775045e-01, 7.73776036e-01, 7.74777027e-01, 7.75778018e-01,\n",
       "       7.76779009e-01, 7.77780000e-01, 7.78780991e-01, 7.79781982e-01,\n",
       "       7.80782973e-01, 7.81783964e-01, 7.82784955e-01, 7.83785946e-01,\n",
       "       7.84786937e-01, 7.85787928e-01, 7.86788919e-01, 7.87789910e-01,\n",
       "       7.88790901e-01, 7.89791892e-01, 7.90792883e-01, 7.91793874e-01,\n",
       "       7.92794865e-01, 7.93795856e-01, 7.94796847e-01, 7.95797838e-01,\n",
       "       7.96798829e-01, 7.97799820e-01, 7.98800811e-01, 7.99801802e-01,\n",
       "       8.00802793e-01, 8.01803784e-01, 8.02804775e-01, 8.03805766e-01,\n",
       "       8.04806757e-01, 8.05807748e-01, 8.06808739e-01, 8.07809730e-01,\n",
       "       8.08810721e-01, 8.09811712e-01, 8.10812703e-01, 8.11813694e-01,\n",
       "       8.12814685e-01, 8.13815676e-01, 8.14816667e-01, 8.15817658e-01,\n",
       "       8.16818649e-01, 8.17819640e-01, 8.18820631e-01, 8.19821622e-01,\n",
       "       8.20822613e-01, 8.21823604e-01, 8.22824595e-01, 8.23825586e-01,\n",
       "       8.24826577e-01, 8.25827568e-01, 8.26828559e-01, 8.27829550e-01,\n",
       "       8.28830541e-01, 8.29831532e-01, 8.30832523e-01, 8.31833514e-01,\n",
       "       8.32834505e-01, 8.33835495e-01, 8.34836486e-01, 8.35837477e-01,\n",
       "       8.36838468e-01, 8.37839459e-01, 8.38840450e-01, 8.39841441e-01,\n",
       "       8.40842432e-01, 8.41843423e-01, 8.42844414e-01, 8.43845405e-01,\n",
       "       8.44846396e-01, 8.45847387e-01, 8.46848378e-01, 8.47849369e-01,\n",
       "       8.48850360e-01, 8.49851351e-01, 8.50852342e-01, 8.51853333e-01,\n",
       "       8.52854324e-01, 8.53855315e-01, 8.54856306e-01, 8.55857297e-01,\n",
       "       8.56858288e-01, 8.57859279e-01, 8.58860270e-01, 8.59861261e-01,\n",
       "       8.60862252e-01, 8.61863243e-01, 8.62864234e-01, 8.63865225e-01,\n",
       "       8.64866216e-01, 8.65867207e-01, 8.66868198e-01, 8.67869189e-01,\n",
       "       8.68870180e-01, 8.69871171e-01, 8.70872162e-01, 8.71873153e-01,\n",
       "       8.72874144e-01, 8.73875135e-01, 8.74876126e-01, 8.75877117e-01,\n",
       "       8.76878108e-01, 8.77879099e-01, 8.78880090e-01, 8.79881081e-01,\n",
       "       8.80882072e-01, 8.81883063e-01, 8.82884054e-01, 8.83885045e-01,\n",
       "       8.84886036e-01, 8.85887027e-01, 8.86888018e-01, 8.87889009e-01,\n",
       "       8.88890000e-01, 8.89890991e-01, 8.90891982e-01, 8.91892973e-01,\n",
       "       8.92893964e-01, 8.93894955e-01, 8.94895946e-01, 8.95896937e-01,\n",
       "       8.96897928e-01, 8.97898919e-01, 8.98899910e-01, 8.99900901e-01,\n",
       "       9.00901892e-01, 9.01902883e-01, 9.02903874e-01, 9.03904865e-01,\n",
       "       9.04905856e-01, 9.05906847e-01, 9.06907838e-01, 9.07908829e-01,\n",
       "       9.08909820e-01, 9.09910811e-01, 9.10911802e-01, 9.11912793e-01,\n",
       "       9.12913784e-01, 9.13914775e-01, 9.14915766e-01, 9.15916757e-01,\n",
       "       9.16917748e-01, 9.17918739e-01, 9.18919730e-01, 9.19920721e-01,\n",
       "       9.20921712e-01, 9.21922703e-01, 9.22923694e-01, 9.23924685e-01,\n",
       "       9.24925676e-01, 9.25926667e-01, 9.26927658e-01, 9.27928649e-01,\n",
       "       9.28929640e-01, 9.29930631e-01, 9.30931622e-01, 9.31932613e-01,\n",
       "       9.32933604e-01, 9.33934595e-01, 9.34935586e-01, 9.35936577e-01,\n",
       "       9.36937568e-01, 9.37938559e-01, 9.38939550e-01, 9.39940541e-01,\n",
       "       9.40941532e-01, 9.41942523e-01, 9.42943514e-01, 9.43944505e-01,\n",
       "       9.44945495e-01, 9.45946486e-01, 9.46947477e-01, 9.47948468e-01,\n",
       "       9.48949459e-01, 9.49950450e-01, 9.50951441e-01, 9.51952432e-01,\n",
       "       9.52953423e-01, 9.53954414e-01, 9.54955405e-01, 9.55956396e-01,\n",
       "       9.56957387e-01, 9.57958378e-01, 9.58959369e-01, 9.59960360e-01,\n",
       "       9.60961351e-01, 9.61962342e-01, 9.62963333e-01, 9.63964324e-01,\n",
       "       9.64965315e-01, 9.65966306e-01, 9.66967297e-01, 9.67968288e-01,\n",
       "       9.68969279e-01, 9.69970270e-01, 9.70971261e-01, 9.71972252e-01,\n",
       "       9.72973243e-01, 9.73974234e-01, 9.74975225e-01, 9.75976216e-01,\n",
       "       9.76977207e-01, 9.77978198e-01, 9.78979189e-01, 9.79980180e-01,\n",
       "       9.80981171e-01, 9.81982162e-01, 9.82983153e-01, 9.83984144e-01,\n",
       "       9.84985135e-01, 9.85986126e-01, 9.86987117e-01, 9.87988108e-01,\n",
       "       9.88989099e-01, 9.89990090e-01, 9.90991081e-01, 9.91992072e-01,\n",
       "       9.92993063e-01, 9.93994054e-01, 9.94995045e-01, 9.95996036e-01,\n",
       "       9.96997027e-01, 9.97998018e-01, 9.98999009e-01, 1.00000000e+00])"
      ]
     },
     "execution_count": 328,
     "metadata": {},
     "output_type": "execute_result"
    }
   ],
   "source": [
    "U = np.linspace(0, 1, 1000)\n",
    "1e-5 + (1 - 1e-5) * U"
   ]
  },
  {
   "cell_type": "code",
   "execution_count": null,
   "id": "5a44de22-c633-419b-810a-16f595c5bfee",
   "metadata": {},
   "outputs": [],
   "source": []
  },
  {
   "cell_type": "markdown",
   "id": "8e08f66a-109d-4a1d-8a48-8dc7149203dd",
   "metadata": {},
   "source": [
    "### Experiments with functions"
   ]
  },
  {
   "cell_type": "code",
   "execution_count": 121,
   "id": "dd2e024c-c163-4a81-83b6-550e4d08be8a",
   "metadata": {},
   "outputs": [
    {
     "data": {
      "text/plain": [
       "(tensor(0.1216), 0.12344683312338371)"
      ]
     },
     "execution_count": 121,
     "metadata": {},
     "output_type": "execute_result"
    }
   ],
   "source": [
    "T = 1000\n",
    "betas = np.linspace(0.0001, 0.02, T, dtype=np.float64)\n",
    "self_alphas_cumprod = np.cumprod(1 - betas)\n",
    "\n",
    "t = 34\n",
    "\n",
    "alpha_prod_t = self_alphas_cumprod[t]\n",
    "beta_prod_t = 1 - alpha_prod_t\n",
    "\n",
    "sigma_fn(torch.tensor(t / T)), beta_prod_t**0.5"
   ]
  },
  {
   "cell_type": "code",
   "execution_count": 122,
   "id": "a15aff01-be23-4a7e-8132-139f4e03bae9",
   "metadata": {},
   "outputs": [
    {
     "data": {
      "text/plain": [
       "(0.9923511875298016, tensor(0.9926))"
      ]
     },
     "execution_count": 122,
     "metadata": {},
     "output_type": "execute_result"
    }
   ],
   "source": [
    "alpha_prod_t ** 0.5, alpha_fn(torch.tensor(t / T))"
   ]
  },
  {
   "cell_type": "code",
   "execution_count": 117,
   "id": "90bbdfec-b28e-4d50-92f6-bda243fdf001",
   "metadata": {},
   "outputs": [],
   "source": [
    "T = 1000\n",
    "betas = np.linspace(0.0001, 0.02, T, dtype=np.float64)\n",
    "self_alphas_cumprod = np.cumprod(1 - betas)\n",
    "\n",
    "\n",
    "x_0_coeff = []\n",
    "x_t_coeff = []\n",
    "x_0_coeff_c = []\n",
    "x_t_coeff_c = []\n",
    "prev_t = -1\n",
    "for t in range(T):\n",
    "    alpha_prod_t = self_alphas_cumprod[t]\n",
    "    alpha_prod_t_prev = self_alphas_cumprod[prev_t] if prev_t >= 0 else 1\n",
    "    beta_prod_t = 1 - alpha_prod_t\n",
    "    beta_prod_t_prev = 1 - alpha_prod_t_prev\n",
    "    current_alpha_t = alpha_prod_t / alpha_prod_t_prev\n",
    "    current_beta_t = 1 - current_alpha_t\n",
    "    \n",
    "    pred_original_sample_coeff = (alpha_prod_t_prev ** (0.5) * current_beta_t) / beta_prod_t\n",
    "    current_sample_coeff = current_alpha_t ** (0.5) * beta_prod_t_prev / beta_prod_t\n",
    "    x_0_coeff.append(pred_original_sample_coeff)\n",
    "    x_t_coeff.append(current_sample_coeff)\n",
    "    prev_t = t\n",
    "    \n",
    "    t = torch.ones(1) * t\n",
    "    t_tilda = torch.maximum(t / 1000, torch.tensor(1e-6))\n",
    "    t_prev_tilda = torch.maximum((t - 1) / 1000, torch.tensor(1e-6))\n",
    "\n",
    "    alpha_t = alpha_fn(t_tilda).numpy()[0]\n",
    "    alpha_prev = alpha_fn(t_prev_tilda).numpy()[0]\n",
    "    if alpha_t == alpha_prev:\n",
    "        alpha_prev = 1\n",
    "\n",
    "    sigma_t = sigma_fn(t_tilda).numpy()[0]\n",
    "    sigma_prev = sigma_fn(t_prev_tilda).numpy()[0]\n",
    "    if sigma_t == sigma_prev:\n",
    "        sigma_prev = 0\n",
    "    \n",
    "    pred_original_sample_coeff = (alpha_prev / sigma_t ** 2) * (1 - (alpha_t / alpha_prev) ** 2)\n",
    "    current_sample_coeff = np.sqrt(alpha_t / alpha_prev) * ((sigma_prev / sigma_t) ** 2)\n",
    "    x_0_coeff_c.append(pred_original_sample_coeff)\n",
    "    x_t_coeff_c.append(current_sample_coeff)\n",
    "    \n",
    "# x_0_coeff_c =  np.array(x_0_coeff_c).flatten()\n",
    "# x_0_coeff_c[0] = 1\n",
    "# x_t_coeff_c =  np.array(x_t_coeff_c).flatten()\n",
    "# x_t_coeff_c[0] = 0"
   ]
  },
  {
   "cell_type": "code",
   "execution_count": 119,
   "id": "01fcd117-1c70-4474-95a0-f36981e55610",
   "metadata": {},
   "outputs": [
    {
     "data": {
      "image/png": "[encoded data removed]",
      "text/plain": [
       "<Figure size 640x480 with 1 Axes>"
      ]
     },
     "metadata": {},
     "output_type": "display_data"
    }
   ],
   "source": [
    "t = np.linspace(0, 1, T)\n",
    "# plt.plot(t, np.array(x_0_coeff), c=\"r\")\n",
    "# plt.plot(t, x_t_coeff, c=\"b\")\n",
    "# plt.plot(t, np.array(x_0_coeff_c), c=\"g\")\n",
    "plt.plot(t, x_t_coeff_c, c=\"y\")\n",
    "plt.show()"
   ]
  },
  {
   "cell_type": "code",
   "execution_count": null,
   "id": "515b3aa6-acbb-4134-910f-a8cfc80aa339",
   "metadata": {},
   "outputs": [],
   "source": []
  },
  {
   "cell_type": "code",
   "execution_count": 40,
   "id": "72cfe66f-9c00-4b0d-8c26-3d9f6ebaa53c",
   "metadata": {},
   "outputs": [],
   "source": [
    "alpha_fn = trainer._diffusion_scheduler._alpha_fn\n",
    "sigma_fn = trainer._diffusion_scheduler._sigma_fn"
   ]
  },
  {
   "cell_type": "code",
   "execution_count": null,
   "id": "bdb8102b-d98d-4b31-aa09-1017e54f9602",
   "metadata": {},
   "outputs": [],
   "source": []
  },
  {
   "cell_type": "code",
   "execution_count": 41,
   "id": "6a898b02-012f-4343-839c-cb35aca035cf",
   "metadata": {},
   "outputs": [
    {
     "data": {
      "image/png": "[encoded data removed]",
      "text/plain": [
       "<Figure size 640x480 with 1 Axes>"
      ]
     },
     "metadata": {},
     "output_type": "display_data"
    }
   ],
   "source": [
    "t = np.linspace(0, 1, 1000)\n",
    "plt.plot(t, alpha_fn(torch.from_numpy(t)).numpy())\n",
    "plt.plot(t, sigma_fn(torch.from_numpy(t)).numpy())\n",
    "plt.show()"
   ]
  },
  {
   "cell_type": "code",
   "execution_count": null,
   "id": "08609e7d-2692-4486-8c4c-e007327daa90",
   "metadata": {},
   "outputs": [],
   "source": []
  },
  {
   "cell_type": "code",
   "execution_count": 15,
   "id": "9786432b-5a83-4336-8c3e-8c34042c0502",
   "metadata": {},
   "outputs": [
    {
     "name": "stderr",
     "output_type": "stream",
     "text": [
      "                                                                                                                                                                                                        \r"
     ]
    }
   ],
   "source": [
    "images = trainer.sample_with_teacher(2)"
   ]
  },
  {
   "cell_type": "code",
   "execution_count": 9,
   "id": "7dc67bc8-837f-4f90-8d5f-528ebca0b691",
   "metadata": {},
   "outputs": [
    {
     "data": {
      "text/plain": [
       "(1, 32, 32, 3)"
      ]
     },
     "execution_count": 9,
     "metadata": {},
     "output_type": "execute_result"
    }
   ],
   "source": [
    "img = images.permute(0, 2, 3, 1).detach().numpy()\n",
    "img.shape"
   ]
  },
  {
   "cell_type": "code",
   "execution_count": 10,
   "id": "d129c241-78f8-40e2-a261-5cf6a9586ab1",
   "metadata": {},
   "outputs": [
    {
     "data": {
      "text/plain": [
       "(32, 32, 3)"
      ]
     },
     "execution_count": 10,
     "metadata": {},
     "output_type": "execute_result"
    }
   ],
   "source": [
    "img[0].shape"
   ]
  },
  {
   "cell_type": "code",
   "execution_count": 11,
   "id": "1694543d-ba2c-47da-89c5-be1775914337",
   "metadata": {},
   "outputs": [
    {
     "data": {
      "image/png": "[encoded data removed]",
      "text/plain": [
       "<Figure size 640x480 with 1 Axes>"
      ]
     },
     "metadata": {},
     "output_type": "display_data"
    }
   ],
   "source": [
    "plt.hist(img.reshape(-1), bins=80)\n",
    "plt.show()"
   ]
  },
  {
   "cell_type": "code",
   "execution_count": 12,
   "id": "0474bd69-c5e8-4f8b-bd99-656879245883",
   "metadata": {},
   "outputs": [
    {
     "data": {
      "image/jpeg": "[encoded data removed]",
      "image/png": "[encoded data removed]",
      "text/plain": [
       "<PIL.Image.Image image mode=RGB size=32x32>"
      ]
     },
     "execution_count": 12,
     "metadata": {},
     "output_type": "execute_result"
    }
   ],
   "source": [
    "img = images.permute(0, 2, 3, 1).detach().numpy()\n",
    "Image.fromarray(np.uint8(img[0] * 255))"
   ]
  },
  {
   "cell_type": "code",
   "execution_count": 13,
   "id": "7a066f0a-8e2e-4fca-925b-23b0ab979b6b",
   "metadata": {},
   "outputs": [
    {
     "data": {
      "text/plain": [
       "array([[[190, 138,   2],\n",
       "        [189, 134,   3],\n",
       "        [188, 134,   2],\n",
       "        ...,\n",
       "        [189, 133,   1],\n",
       "        [190, 134,   1],\n",
       "        [194, 135,   3]],\n",
       "\n",
       "       [[188, 135,   0],\n",
       "        [186, 132,   3],\n",
       "        [186, 132,   1],\n",
       "        ...,\n",
       "        [187, 131,   0],\n",
       "        [188, 132,   0],\n",
       "        [190, 134,   1]],\n",
       "\n",
       "       [[187, 135,   1],\n",
       "        [186, 132,   3],\n",
       "        [185, 131,   2],\n",
       "        ...,\n",
       "        [186, 130,   1],\n",
       "        [188, 131,   1],\n",
       "        [190, 132,   2]],\n",
       "\n",
       "       ...,\n",
       "\n",
       "       [[157, 103,   0],\n",
       "        [158, 101,   2],\n",
       "        [156,  99,   1],\n",
       "        ...,\n",
       "        [155,  97,   0],\n",
       "        [157,  98,   0],\n",
       "        [160, 102,   1]],\n",
       "\n",
       "       [[157, 102,   1],\n",
       "        [158, 101,   3],\n",
       "        [156,  99,   2],\n",
       "        ...,\n",
       "        [155,  97,   1],\n",
       "        [156,  98,   0],\n",
       "        [160, 102,   1]],\n",
       "\n",
       "       [[154, 100,   2],\n",
       "        [155,  99,   4],\n",
       "        [153,  96,   3],\n",
       "        ...,\n",
       "        [153,  96,   2],\n",
       "        [154,  97,   1],\n",
       "        [157, 100,   2]]], dtype=uint8)"
      ]
     },
     "execution_count": 13,
     "metadata": {},
     "output_type": "execute_result"
    }
   ],
   "source": [
    "np.uint8(img[0] * 255)"
   ]
  },
  {
   "cell_type": "code",
   "execution_count": null,
   "id": "4cebdc97-6150-4b91-9f07-fcbd1c40cd0c",
   "metadata": {},
   "outputs": [],
   "source": []
  }
 ],
 "metadata": {
  "kernelspec": {
   "display_name": "Python 3 (ipykernel)",
   "language": "python",
   "name": "python3"
  },
  "language_info": {
   "codemirror_mode": {
    "name": "ipython",
    "version": 3
   },
   "file_extension": ".py",
   "mimetype": "text/x-python",
   "name": "python",
   "nbconvert_exporter": "python",
   "pygments_lexer": "ipython3",
   "version": "3.8.17"
  }
 },
 "nbformat": 4,
 "nbformat_minor": 5
}
