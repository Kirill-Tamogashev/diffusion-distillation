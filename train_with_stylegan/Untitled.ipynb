{
 "cells": [
  {
   "cell_type": "code",
   "execution_count": 1,
   "id": "ecb2b227-7d85-4b23-a683-ea0cbde32506",
   "metadata": {
    "editable": true,
    "slideshow": {
     "slide_type": ""
    },
    "tags": []
   },
   "outputs": [],
   "source": [
    "%load_ext autoreload\n",
    "%autoreload 2\n",
    "\n",
    "import torch\n",
    "import os"
   ]
  },
  {
   "cell_type": "code",
   "execution_count": 2,
   "id": "6458e5da-e62b-4b8e-a6af-5703476dd549",
   "metadata": {
    "editable": true,
    "slideshow": {
     "slide_type": ""
    },
    "tags": []
   },
   "outputs": [],
   "source": [
    "x = torch.randn(32, 3, 256, 256).cuda()\n",
    "t_countinious = torch.rand(32).cuda()\n",
    "t_discrete = torch.randint(0, 1000, (32, )).cuda()"
   ]
  },
  {
   "cell_type": "code",
   "execution_count": 3,
   "id": "97a4ae45-db31-4869-8468-5f0938f72302",
   "metadata": {},
   "outputs": [],
   "source": [
    "from discriminator import Discriminator\n",
    "d = Discriminator(256, 1, time_countinious=False)\n",
    "d.to(\"cuda:0\")\n",
    "None"
   ]
  },
  {
   "cell_type": "code",
   "execution_count": 4,
   "id": "c795c12e-235a-4a8c-a33b-029c59757018",
   "metadata": {},
   "outputs": [
    {
     "data": {
      "text/plain": [
       "torch.Size([32, 1])"
      ]
     },
     "execution_count": 4,
     "metadata": {},
     "output_type": "execute_result"
    }
   ],
   "source": [
    "# out = d(x, t_countinious)\n",
    "out = d(x, t_discrete)\n",
    "out.shape"
   ]
  },
  {
   "cell_type": "code",
   "execution_count": 5,
   "id": "a5dd64f3-56c7-4c5a-a672-fd8f07e1c8b3",
   "metadata": {},
   "outputs": [
    {
     "data": {
      "text/plain": [
       "tensor([[-0.2003],\n",
       "        [-0.1004],\n",
       "        [-0.1949],\n",
       "        [-0.2621],\n",
       "        [-0.1516],\n",
       "        [-0.1665],\n",
       "        [-0.0848],\n",
       "        [-0.1462],\n",
       "        [ 0.0743],\n",
       "        [-0.4254],\n",
       "        [-0.3678],\n",
       "        [-0.0853],\n",
       "        [-0.1547],\n",
       "        [-0.3869],\n",
       "        [-0.0912],\n",
       "        [-0.0339],\n",
       "        [-0.2850],\n",
       "        [ 0.0369],\n",
       "        [-0.2500],\n",
       "        [-0.3609],\n",
       "        [-0.2989],\n",
       "        [-0.1846],\n",
       "        [-0.0700],\n",
       "        [-0.0937],\n",
       "        [-0.1498],\n",
       "        [-0.1724],\n",
       "        [-0.1127],\n",
       "        [-0.3975],\n",
       "        [-0.3550],\n",
       "        [-0.0146],\n",
       "        [-0.1088],\n",
       "        [-0.2592]], device='cuda:0', grad_fn=<AddmmBackward0>)"
      ]
     },
     "execution_count": 5,
     "metadata": {},
     "output_type": "execute_result"
    }
   ],
   "source": [
    "out"
   ]
  },
  {
   "cell_type": "code",
   "execution_count": 6,
   "id": "f90e0f18-e957-4d51-a6f5-4952816d255e",
   "metadata": {},
   "outputs": [
    {
     "ename": "IndentationError",
     "evalue": "unexpected indent (3828978288.py, line 35)",
     "output_type": "error",
     "traceback": [
      "\u001b[0;36m  Cell \u001b[0;32mIn[6], line 35\u001b[0;36m\u001b[0m\n\u001b[0;31m    p.step()\u001b[0m\n\u001b[0m    ^\u001b[0m\n\u001b[0;31mIndentationError\u001b[0m\u001b[0;31m:\u001b[0m unexpected indent\n"
     ]
    }
   ],
   "source": [
    "# from torch.profiler import profile, record_function, ProfilerActivity\n",
    "\n",
    "\n",
    "# def trace_handler(prof):\n",
    "#     print(prof.key_averages().table(\n",
    "#         sort_by=\"self_cuda_time_total\", row_limit=-1))\n",
    "#     # prof.export_chrome_trace(\"/tmp/test_trace_\" + str(prof.step_num) + \".json\")\n",
    "\n",
    "# with torch.profiler.profile(\n",
    "#     activities=[\n",
    "#         torch.profiler.ProfilerActivity.CPU,\n",
    "#         torch.profiler.ProfilerActivity.CUDA,\n",
    "#     ],\n",
    "\n",
    "#     # In this example with wait=1, warmup=1, active=2, repeat=1,\n",
    "#     # profiler will skip the first step/iteration,\n",
    "#     # start warming up on the second, record\n",
    "#     # the third and the forth iterations,\n",
    "#     # after which the trace will become available\n",
    "#     # and on_trace_ready (when set) is called;\n",
    "#     # the cycle repeats starting with the next step\n",
    "\n",
    "#     schedule=torch.profiler.schedule(\n",
    "#         wait=2,\n",
    "#         warmup=2,\n",
    "#         active=10,\n",
    "#         repeat=1),\n",
    "#     on_trace_ready=trace_handler\n",
    "#     # on_trace_ready=torch.profiler.tensorboard_trace_handler('./log')\n",
    "#     # used when outputting for tensorboard\n",
    "#     ) as p:\n",
    "#         for iter in range(50):\n",
    "#             d(x, t)\n",
    "#             # send a signal to the profiler that the next iteration has started\n",
    "            p.step()"
   ]
  },
  {
   "cell_type": "code",
   "execution_count": 8,
   "id": "0e22d97c-4407-4b2a-8bc9-4627b45ba18a",
   "metadata": {},
   "outputs": [],
   "source": [
    "import numpy as np"
   ]
  },
  {
   "cell_type": "code",
   "execution_count": 9,
   "id": "07a42cf2-57d0-40f9-964b-cf18f01e6d04",
   "metadata": {},
   "outputs": [],
   "source": [
    "alphas = np.sqrt(1 - np.linspace(0, 1, 1000))"
   ]
  },
  {
   "cell_type": "code",
   "execution_count": 13,
   "id": "c6c1ce21-07c0-4370-a16e-ae907cd6b898",
   "metadata": {},
   "outputs": [],
   "source": [
    "t = np.random.randint(0, 1000, (32, 1))"
   ]
  },
  {
   "cell_type": "code",
   "execution_count": 14,
   "id": "cd71665b-f4aa-473a-8a9e-602469a55b5a",
   "metadata": {},
   "outputs": [
    {
     "data": {
      "text/plain": [
       "(32, 1)"
      ]
     },
     "execution_count": 14,
     "metadata": {},
     "output_type": "execute_result"
    }
   ],
   "source": [
    "alphas[t].shape"
   ]
  },
  {
   "cell_type": "code",
   "execution_count": 19,
   "id": "b0dcfe60-33b3-42b9-8ec4-63b75077430d",
   "metadata": {},
   "outputs": [],
   "source": [
    "t = np.random.randint(0, 1000, (32, 1))\n",
    "s = np.random.randint(0, t)"
   ]
  },
  {
   "cell_type": "code",
   "execution_count": 20,
   "id": "86e2eb41-873b-4616-bfb0-ce3f98e928ea",
   "metadata": {},
   "outputs": [
    {
     "data": {
      "text/plain": [
       "((32, 1), (32, 1))"
      ]
     },
     "execution_count": 20,
     "metadata": {},
     "output_type": "execute_result"
    }
   ],
   "source": [
    "s.shape, t.shape"
   ]
  },
  {
   "cell_type": "code",
   "execution_count": null,
   "id": "cbc75240-dd66-4db7-a49c-8a3fa3019527",
   "metadata": {},
   "outputs": [],
   "source": []
  }
 ],
 "metadata": {
  "kernelspec": {
   "display_name": "Python 3 (ipykernel)",
   "language": "python",
   "name": "python3"
  },
  "language_info": {
   "codemirror_mode": {
    "name": "ipython",
    "version": 3
   },
   "file_extension": ".py",
   "mimetype": "text/x-python",
   "name": "python",
   "nbconvert_exporter": "python",
   "pygments_lexer": "ipython3",
   "version": "3.10.11"
  }
 },
 "nbformat": 4,
 "nbformat_minor": 5
}
